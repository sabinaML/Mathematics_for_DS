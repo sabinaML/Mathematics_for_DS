{
  "nbformat": 4,
  "nbformat_minor": 0,
  "metadata": {
    "colab": {
      "provenance": [],
      "authorship_tag": "ABX9TyPuUMDlnBRjFuPqJ6udPkMg",
      "include_colab_link": true
    },
    "kernelspec": {
      "name": "python3",
      "display_name": "Python 3"
    },
    "language_info": {
      "name": "python"
    }
  },
  "cells": [
    {
      "cell_type": "markdown",
      "metadata": {
        "id": "view-in-github",
        "colab_type": "text"
      },
      "source": [
        "<a href=\"https://colab.research.google.com/github/sabinaML/Mathematics_for_DS/blob/main/%D0%9F%D1%80%D0%BE%D0%B8%D0%B7%D0%B2%D0%BE%D0%B4%D0%BD%D1%8B%D0%B5%2C_%D0%B3%D1%80%D0%B0%D1%84%D0%B8%D0%BA%D0%B8_%D0%BF%D1%80%D0%BE%D0%B8%D0%B7%D0%B2%D0%BE%D0%B4%D0%BD%D1%8B%D1%85.ipynb\" target=\"_parent\"><img src=\"https://colab.research.google.com/assets/colab-badge.svg\" alt=\"Open In Colab\"/></a>"
      ]
    },
    {
      "cell_type": "markdown",
      "source": [
        "\n",
        "# Посчитайте значение первой и второй производной функции:\n",
        "\n",
        "x**5+4*(sym.sin(2*x))+(sym.cos(3*x+3))\n",
        "В точке x = 1."
      ],
      "metadata": {
        "id": "9fiixA1FfZ4d"
      }
    },
    {
      "cell_type": "code",
      "source": [
        "import sympy as sym\n",
        "import numpy as np\n",
        "import math\n",
        "import matplotlib.pyplot as plt"
      ],
      "metadata": {
        "id": "KZxco5ArfbcD"
      },
      "execution_count": 35,
      "outputs": []
    },
    {
      "cell_type": "code",
      "source": [
        "x=sym.Symbol('x')\n",
        "x"
      ],
      "metadata": {
        "colab": {
          "base_uri": "https://localhost:8080/",
          "height": 39
        },
        "id": "Qr5K5I0Xfbe9",
        "outputId": "f5f87018-1781-4e24-dc49-00332839861f"
      },
      "execution_count": 77,
      "outputs": [
        {
          "output_type": "execute_result",
          "data": {
            "text/plain": [
              "x"
            ],
            "text/latex": "$\\displaystyle x$"
          },
          "metadata": {},
          "execution_count": 77
        }
      ]
    },
    {
      "cell_type": "code",
      "source": [
        "y=x**5+4*(sym.sin(2*x))+(sym.cos(3*x+3))"
      ],
      "metadata": {
        "id": "n2EC717Yfnxi"
      },
      "execution_count": 22,
      "outputs": []
    },
    {
      "cell_type": "code",
      "source": [
        "y_diff=sym.diff(y)\n",
        "y_diff"
      ],
      "metadata": {
        "colab": {
          "base_uri": "https://localhost:8080/",
          "height": 39
        },
        "id": "5M_CGMXAfn0K",
        "outputId": "529fec7c-ebb2-4f13-9c9c-1907f6202cde"
      },
      "execution_count": 28,
      "outputs": [
        {
          "output_type": "execute_result",
          "data": {
            "text/plain": [
              "5*x**4 - 3*sin(3*x + 3) + 8*cos(2*x)"
            ],
            "text/latex": "$\\displaystyle 5 x^{4} - 3 \\sin{\\left(3 x + 3 \\right)} + 8 \\cos{\\left(2 x \\right)}$"
          },
          "metadata": {},
          "execution_count": 28
        }
      ]
    },
    {
      "cell_type": "code",
      "source": [
        "y_diff.subs(x,1)"
      ],
      "metadata": {
        "colab": {
          "base_uri": "https://localhost:8080/",
          "height": 37
        },
        "id": "lmDyC0RYhfsd",
        "outputId": "1666898e-a66a-430a-ef93-08758f5b258b"
      },
      "execution_count": 27,
      "outputs": [
        {
          "output_type": "execute_result",
          "data": {
            "text/plain": [
              "8*cos(2) - 3*sin(6) + 5"
            ],
            "text/latex": "$\\displaystyle 8 \\cos{\\left(2 \\right)} - 3 \\sin{\\left(6 \\right)} + 5$"
          },
          "metadata": {},
          "execution_count": 27
        }
      ]
    },
    {
      "cell_type": "code",
      "source": [
        "8*math.cos(2)-3*math.sin(6)+5"
      ],
      "metadata": {
        "colab": {
          "base_uri": "https://localhost:8080/"
        },
        "id": "JTf2xmEYiAmq",
        "outputId": "9216dd3a-3f6f-4d02-9982-7647dab15d84"
      },
      "execution_count": 30,
      "outputs": [
        {
          "output_type": "execute_result",
          "data": {
            "text/plain": [
              "2.5090718022196383"
            ]
          },
          "metadata": {},
          "execution_count": 30
        }
      ]
    },
    {
      "cell_type": "markdown",
      "source": [
        "\n",
        "# Постройте график первой и второй производной функции:\n",
        "\n",
        "\n",
        "На отрезке [-5; 5]."
      ],
      "metadata": {
        "id": "zkNp4rexiQP0"
      }
    },
    {
      "cell_type": "code",
      "source": [
        "y=(sym.sin(2*x+1))**5\n",
        "y"
      ],
      "metadata": {
        "colab": {
          "base_uri": "https://localhost:8080/",
          "height": 39
        },
        "id": "loP3yp9TiTwB",
        "outputId": "f35c1688-4cfd-400b-d8f8-37cbd7937ded"
      },
      "execution_count": 103,
      "outputs": [
        {
          "output_type": "execute_result",
          "data": {
            "text/plain": [
              "sin(2*x + 1)**5"
            ],
            "text/latex": "$\\displaystyle \\sin^{5}{\\left(2 x + 1 \\right)}$"
          },
          "metadata": {},
          "execution_count": 103
        }
      ]
    },
    {
      "cell_type": "code",
      "source": [
        "m=np.arange(-5, 5,0.2)\n"
      ],
      "metadata": {
        "id": "zd9ZM-a6mopH"
      },
      "execution_count": 128,
      "outputs": []
    },
    {
      "cell_type": "code",
      "source": [
        "y1 = [sym.diff(y).subs(x, i) for i in m]\n",
        "y2 = [sym.diff(sym.diff(y)).subs(x, i) for i in m]"
      ],
      "metadata": {
        "id": "E-u5uEvcmDp6"
      },
      "execution_count": 129,
      "outputs": []
    },
    {
      "cell_type": "code",
      "source": [
        "plt.plot(m,y1, label='первая производная')\n",
        "plt.plot(m,y2, label='вторая производная')\n",
        "plt.legend()\n",
        "plt.xlim([-6,6])\n",
        "plt.ylim([-30,30])\n",
        "plt.show()"
      ],
      "metadata": {
        "colab": {
          "base_uri": "https://localhost:8080/",
          "height": 269
        },
        "id": "JcNUfuRSmRGW",
        "outputId": "55c054cc-83e1-4f19-fa6c-32645e3c7b63"
      },
      "execution_count": 132,
      "outputs": [
        {
          "output_type": "display_data",
          "data": {
            "text/plain": [
              "<Figure size 432x288 with 1 Axes>"
            ],
            "image/png": "[encoded data removed]"
          },
          "metadata": {
            "needs_background": "light"
          }
        }
      ]
    },
    {
      "cell_type": "code",
      "source": [
        "sym.diff(y) # формула первой производной"
      ],
      "metadata": {
        "colab": {
          "base_uri": "https://localhost:8080/",
          "height": 39
        },
        "id": "tOf3glXqt-oI",
        "outputId": "55744f21-6d7d-461e-fb65-014c09d92936"
      },
      "execution_count": 124,
      "outputs": [
        {
          "output_type": "execute_result",
          "data": {
            "text/plain": [
              "10*sin(2*x + 1)**4*cos(2*x + 1)"
            ],
            "text/latex": "$\\displaystyle 10 \\sin^{4}{\\left(2 x + 1 \\right)} \\cos{\\left(2 x + 1 \\right)}$"
          },
          "metadata": {},
          "execution_count": 124
        }
      ]
    },
    {
      "cell_type": "code",
      "source": [
        "sym.diff(sym.diff(y)) # формула второй производной"
      ],
      "metadata": {
        "colab": {
          "base_uri": "https://localhost:8080/",
          "height": 39
        },
        "id": "ybT04_3ytbtS",
        "outputId": "2835e60e-7f8c-404e-9119-563e182097c7"
      },
      "execution_count": 125,
      "outputs": [
        {
          "output_type": "execute_result",
          "data": {
            "text/plain": [
              "-20*sin(2*x + 1)**5 + 80*sin(2*x + 1)**3*cos(2*x + 1)**2"
            ],
            "text/latex": "$\\displaystyle - 20 \\sin^{5}{\\left(2 x + 1 \\right)} + 80 \\sin^{3}{\\left(2 x + 1 \\right)} \\cos^{2}{\\left(2 x + 1 \\right)}$"
          },
          "metadata": {},
          "execution_count": 125
        }
      ]
    }
  ]
}