{
  "nbformat": 4,
  "nbformat_minor": 0,
  "metadata": {
    "colab": {
      "provenance": [],
      "authorship_tag": "ABX9TyPwQ6doM6IYiRWUkT4LWyXe",
      "include_colab_link": true
    },
    "kernelspec": {
      "name": "python3",
      "display_name": "Python 3"
    },
    "language_info": {
      "name": "python"
    }
  },
  "cells": [
    {
      "cell_type": "markdown",
      "metadata": {
        "id": "view-in-github",
        "colab_type": "text"
      },
      "source": [
        "<a href=\"https://colab.research.google.com/github/sabinaML/Mathematics_for_DS/blob/main/%D0%A1%D0%BB%D1%83%D1%87%D0%B0%D0%B9%D0%BD%D1%8B%D0%B5_%D0%B2%D0%B5%D0%BB%D0%B8%D1%87%D0%B8%D0%BD%D1%8B_%D0%B8_%D0%B2%D0%B5%D1%80%D0%BE%D1%8F%D1%82%D0%BD%D0%BE%D1%81%D1%82%D0%B8.ipynb\" target=\"_parent\"><img src=\"https://colab.research.google.com/assets/colab-badge.svg\" alt=\"Open In Colab\"/></a>"
      ]
    },
    {
      "cell_type": "markdown",
      "source": [
        "Задание 1\n",
        "В магазин привезли устройства с 3-х разных предприятий.\n",
        "\n",
        "Соотношение устройств следующее: 20% - продукция первого предприятия, 30% - продукция второго предприятия, 50% - продукция третьего предприятия; далее, 10% продукции первого предприятия высшего сорта, на втором предприятии - 5% и на третьем - 20% продукции высшего сорта.\n",
        "\n",
        "Найти вероятность того, что случайно купленная новая продукция окажется высшего сорта."
      ],
      "metadata": {
        "id": "5R06GpSdTa1u"
      }
    },
    {
      "cell_type": "code",
      "source": [
        "p=(0.2*0.1+0.3*0.05+0.5*0.2)*100\n",
        "p #вероятность того, что случайно купленная новая продукция окажется высшего сорта - 13,5%"
      ],
      "metadata": {
        "colab": {
          "base_uri": "https://localhost:8080/"
        },
        "id": "4bccWsKnTbiu",
        "outputId": "377c5e2c-77a5-4745-ea35-5cdef83b04ed"
      },
      "execution_count": 3,
      "outputs": [
        {
          "output_type": "execute_result",
          "data": {
            "text/plain": [
              "13.5"
            ]
          },
          "metadata": {},
          "execution_count": 3
        }
      ]
    },
    {
      "cell_type": "markdown",
      "source": [
        "Задание 2\n",
        "Пусть брошены 3 уравновешенные монеты.\n",
        "\n",
        "Рассмотрим 3 события:\n",
        "\n",
        "A1 - монеты 1 и 2 упали одной и той же стороной;\n",
        "\n",
        "A2 - монеты 2 и 3 упали одной и той же стороной;\n",
        "\n",
        "A3 - монеты 1 и 3 упали одной и той же стороной.\n",
        "\n",
        "Покажите, почему эти 3 события (A1, A2, A3) являются попарно независимыми, но не являются независимыми в совокупности."
      ],
      "metadata": {
        "id": "TeUsOPtpZ_xM"
      }
    },
    {
      "cell_type": "code",
      "source": [
        "# Вероятность событий P(A1) = P(A2) =P(A3) = 4/8= 1/2\n",
        "# вероятность, что 2 события произойдут одновременно P(A1)*P(A2) = 1/4 - если события независимые\n",
        "# есди два события произошли одновременно - то это либо все нули, либо все единицы - это 2 исхода из 8 - то есть вероятность 2/8=1/4,\n",
        "# что равно P(A1)*P(A2). Значит два попарных события являются независимыми\n",
        "\n",
        "# Если бы все три события были независимы, то вероятность была бы 1/2*1/2*1/2=1/8, но когда все события произошли одновременно - то это либо все нули, \n",
        "# либо все единицы - это 2 исхода из 8 - то есть вероятность 2/8=1/4, что не равно 1/8. Значит одновременно три события не являются независимыми"
      ],
      "metadata": {
        "id": "syG4wuRuaAfb"
      },
      "execution_count": 4,
      "outputs": []
    },
    {
      "cell_type": "code",
      "source": [],
      "metadata": {
        "id": "58PXEDd3axE1"
      },
      "execution_count": null,
      "outputs": []
    }
  ]
}