{
  "nbformat": 4,
  "nbformat_minor": 0,
  "metadata": {
    "colab": {
      "provenance": [],
      "authorship_tag": "ABX9TyOEX+mT6WA18oEOARfyBQc1",
      "include_colab_link": true
    },
    "kernelspec": {
      "name": "python3",
      "display_name": "Python 3"
    },
    "language_info": {
      "name": "python"
    }
  },
  "cells": [
    {
      "cell_type": "markdown",
      "metadata": {
        "id": "view-in-github",
        "colab_type": "text"
      },
      "source": [
        "<a href=\"https://colab.research.google.com/github/sabinaML/Mathematics_for_DS/blob/main/%D0%9F%D1%80%D0%BE%D0%B4%D0%B2%D0%B8%D0%BD%D1%83%D1%82%D0%B0%D1%8F_%D0%BB%D0%B8%D0%BD%D0%B5%D0%B9%D0%BD%D0%B0%D1%8F_%D0%B0%D0%BB%D0%B3%D0%B5%D0%B1%D1%80%D0%B0.ipynb\" target=\"_parent\"><img src=\"https://colab.research.google.com/assets/colab-badge.svg\" alt=\"Open In Colab\"/></a>"
      ]
    },
    {
      "cell_type": "code",
      "execution_count": 10,
      "metadata": {
        "colab": {
          "base_uri": "https://localhost:8080/",
          "height": 286
        },
        "id": "pbjlvb84S5OF",
        "outputId": "5f40ecd1-6493-4597-e78d-70a08a0b080d"
      },
      "outputs": [
        {
          "output_type": "execute_result",
          "data": {
            "text/plain": [
              "(-200.0, 200.0)"
            ]
          },
          "metadata": {},
          "execution_count": 10
        },
        {
          "output_type": "display_data",
          "data": {
            "text/plain": [
              "<Figure size 432x288 with 1 Axes>"
            ],
            "image/png": "[encoded data removed]"
          },
          "metadata": {
            "needs_background": "light"
          }
        }
      ],
      "source": [
        "import numpy as np\n",
        "import matplotlib.pyplot as plt\n",
        "\n",
        "A = [\n",
        "[-100, -100, 1],\n",
        "[-100, 100, 1],\n",
        "[100, 100, 1],\n",
        "[0, 0, 1],\n",
        "[100, -100, 1],\n",
        "[-100, -100, 1]\n",
        "]\n",
        "\n",
        "A = np.array(A)\n",
        "\n",
        "x = A[:,0]\n",
        "y = A[:,1]\n",
        "plt.plot(x, y)\n",
        "plt.ylim([-200, 200])\n",
        "plt.xlim([-200, 200]) "
      ]
    },
    {
      "cell_type": "markdown",
      "source": [
        " # Уменьшить объект в два раза"
      ],
      "metadata": {
        "id": "rWe4S_P1Zi-A"
      }
    },
    {
      "cell_type": "code",
      "source": [
        "B=np.array([[0.5,0,0],[0,0.5,0], [0,0,0.5]])\n",
        "res = B@A.transpose()\n",
        "tt=res.transpose()\n",
        "tt"
      ],
      "metadata": {
        "colab": {
          "base_uri": "https://localhost:8080/"
        },
        "id": "PPcKDXKQS91b",
        "outputId": "35a510ed-8bc2-4450-f7c9-4a2e67c7f4cb"
      },
      "execution_count": 27,
      "outputs": [
        {
          "output_type": "execute_result",
          "data": {
            "text/plain": [
              "array([[-50. , -50. ,   0.5],\n",
              "       [-50. ,  50. ,   0.5],\n",
              "       [ 50. ,  50. ,   0.5],\n",
              "       [  0. ,   0. ,   0.5],\n",
              "       [ 50. , -50. ,   0.5],\n",
              "       [-50. , -50. ,   0.5]])"
            ]
          },
          "metadata": {},
          "execution_count": 27
        }
      ]
    },
    {
      "cell_type": "code",
      "source": [
        "A1 = np.array(tt)\n",
        "\n",
        "x1 = A1[:,0]\n",
        "y1 = A1[:,1]\n",
        "plt.plot(x1, y1)\n",
        "\n",
        "x = A[:,0]\n",
        "y = A[:,1]\n",
        "plt.plot(x, y)\n",
        "\n",
        "plt.ylim([-200, 200])\n",
        "plt.xlim([-200, 200])"
      ],
      "metadata": {
        "colab": {
          "base_uri": "https://localhost:8080/",
          "height": 286
        },
        "id": "490WB2GYS-dV",
        "outputId": "ffd08070-0f2d-449b-c7c6-7130929d6a0f"
      },
      "execution_count": 29,
      "outputs": [
        {
          "output_type": "execute_result",
          "data": {
            "text/plain": [
              "(-200.0, 200.0)"
            ]
          },
          "metadata": {},
          "execution_count": 29
        },
        {
          "output_type": "display_data",
          "data": {
            "text/plain": [
              "<Figure size 432x288 with 1 Axes>"
            ],
            "image/png": "[encoded data removed]"
          },
          "metadata": {
            "needs_background": "light"
          }
        }
      ]
    },
    {
      "cell_type": "markdown",
      "source": [
        "# Повернуть на 130 градусов"
      ],
      "metadata": {
        "id": "VCannAsmZ8H6"
      }
    },
    {
      "cell_type": "code",
      "source": [
        "B=np.array([[np.cos(np.pi*130/180),-np.sin(np.pi*130/180),0],[np.sin(np.pi*130/180),np.cos(np.pi*130/180),0], [0,0,1]])\n",
        "res = B@A.transpose()\n",
        "tt=res.transpose()\n",
        "tt"
      ],
      "metadata": {
        "colab": {
          "base_uri": "https://localhost:8080/"
        },
        "id": "lYhevyYHZ-WR",
        "outputId": "bb3fa5f6-91b8-402a-f79f-07569d235d65"
      },
      "execution_count": 34,
      "outputs": [
        {
          "output_type": "execute_result",
          "data": {
            "text/plain": [
              "array([[ 140.88320528,  -12.32568334,    1.        ],\n",
              "       [ -12.32568334, -140.88320528,    1.        ],\n",
              "       [-140.88320528,   12.32568334,    1.        ],\n",
              "       [   0.        ,    0.        ,    1.        ],\n",
              "       [  12.32568334,  140.88320528,    1.        ],\n",
              "       [ 140.88320528,  -12.32568334,    1.        ]])"
            ]
          },
          "metadata": {},
          "execution_count": 34
        }
      ]
    },
    {
      "cell_type": "code",
      "source": [
        "A1 = np.array(tt)\n",
        "\n",
        "x1 = A1[:,0]\n",
        "y1 = A1[:,1]\n",
        "plt.plot(x1, y1)\n",
        "\n",
        "x = A[:,0]\n",
        "y = A[:,1]\n",
        "plt.plot(x, y)\n",
        "\n",
        "plt.ylim([-200, 200])\n",
        "plt.xlim([-200, 200])"
      ],
      "metadata": {
        "colab": {
          "base_uri": "https://localhost:8080/",
          "height": 286
        },
        "id": "K9ilBFQga7fl",
        "outputId": "75a573b8-19bf-4c83-e75c-23c1f88d904f"
      },
      "execution_count": 35,
      "outputs": [
        {
          "output_type": "execute_result",
          "data": {
            "text/plain": [
              "(-200.0, 200.0)"
            ]
          },
          "metadata": {},
          "execution_count": 35
        },
        {
          "output_type": "display_data",
          "data": {
            "text/plain": [
              "<Figure size 432x288 with 1 Axes>"
            ],
            "image/png": "[encoded data removed]"
          },
          "metadata": {
            "needs_background": "light"
          }
        }
      ]
    },
    {
      "cell_type": "markdown",
      "source": [
        "# Отразить объект относительно прямой y=x "
      ],
      "metadata": {
        "id": "8y-t8dR6YwzT"
      }
    },
    {
      "cell_type": "code",
      "source": [
        "B=np.array([[0, 1, 0], [1, 0, 0], [0, 0, 1]])\n",
        "res = B@A.transpose()\n",
        "tt=res.transpose()\n",
        "tt "
      ],
      "metadata": {
        "colab": {
          "base_uri": "https://localhost:8080/"
        },
        "id": "sNRd_IvoX-cO",
        "outputId": "d9cc0908-0eb7-4f42-9d97-8259d209dfcd"
      },
      "execution_count": 24,
      "outputs": [
        {
          "output_type": "execute_result",
          "data": {
            "text/plain": [
              "array([[-100, -100,    1],\n",
              "       [ 100, -100,    1],\n",
              "       [ 100,  100,    1],\n",
              "       [   0,    0,    1],\n",
              "       [-100,  100,    1],\n",
              "       [-100, -100,    1]])"
            ]
          },
          "metadata": {},
          "execution_count": 24
        }
      ]
    },
    {
      "cell_type": "code",
      "source": [
        "A1 = np.array(tt)\n",
        "\n",
        "x1 = A1[:,0]\n",
        "y1 = A1[:,1]\n",
        "plt.plot(x1, y1)\n",
        "\n",
        "\n",
        "\n",
        "plt.ylim([-400, 400])\n",
        "plt.xlim([-400, 400])"
      ],
      "metadata": {
        "colab": {
          "base_uri": "https://localhost:8080/",
          "height": 286
        },
        "id": "j4WIW1t4YhtP",
        "outputId": "36705a6a-89b9-4919-e658-b6c8639b2f09"
      },
      "execution_count": 26,
      "outputs": [
        {
          "output_type": "execute_result",
          "data": {
            "text/plain": [
              "(-400.0, 400.0)"
            ]
          },
          "metadata": {},
          "execution_count": 26
        },
        {
          "output_type": "display_data",
          "data": {
            "text/plain": [
              "<Figure size 432x288 with 1 Axes>"
            ],
            "image/png": "[encoded data removed]"
          },
          "metadata": {
            "needs_background": "light"
          }
        }
      ]
    },
    {
      "cell_type": "markdown",
      "source": [
        "# Найдите спектральное разложение матрицы:"
      ],
      "metadata": {
        "id": "yFUrNSnloL2k"
      }
    },
    {
      "cell_type": "code",
      "source": [
        "m = np.array([[1, 2],\n",
        "              [2, 3]])\n",
        "print(m)"
      ],
      "metadata": {
        "colab": {
          "base_uri": "https://localhost:8080/"
        },
        "id": "sdfkFZ11cciP",
        "outputId": "645d5a54-19fd-452e-9e9d-5c9e53f6570b"
      },
      "execution_count": 38,
      "outputs": [
        {
          "output_type": "stream",
          "name": "stdout",
          "text": [
            "[[1 2]\n",
            " [2 3]]\n"
          ]
        }
      ]
    },
    {
      "cell_type": "code",
      "source": [
        "\n",
        "ev, eW = np.linalg.eigh(m)\n",
        "L=np.diag(ev) \n",
        "np.dot(np.dot(eW, L), eW.T) #получим исходную матрицу "
      ],
      "metadata": {
        "colab": {
          "base_uri": "https://localhost:8080/"
        },
        "id": "cF5C0YF9eVg8",
        "outputId": "fb4702da-04c3-4e02-f4aa-60aabce38532"
      },
      "execution_count": 39,
      "outputs": [
        {
          "output_type": "execute_result",
          "data": {
            "text/plain": [
              "array([[1., 2.],\n",
              "       [2., 3.]])"
            ]
          },
          "metadata": {},
          "execution_count": 39
        }
      ]
    },
    {
      "cell_type": "code",
      "source": [
        "eW"
      ],
      "metadata": {
        "colab": {
          "base_uri": "https://localhost:8080/"
        },
        "id": "VRNuts91fS-b",
        "outputId": "1221cd9b-04e8-45d3-f0ed-b0914c464761"
      },
      "execution_count": 50,
      "outputs": [
        {
          "output_type": "execute_result",
          "data": {
            "text/plain": [
              "array([[-0.85065081,  0.52573111],\n",
              "       [ 0.52573111,  0.85065081]])"
            ]
          },
          "metadata": {},
          "execution_count": 50
        }
      ]
    },
    {
      "cell_type": "code",
      "source": [
        "eW.T"
      ],
      "metadata": {
        "colab": {
          "base_uri": "https://localhost:8080/"
        },
        "id": "3rp6L26-g7gT",
        "outputId": "361dc93c-94e0-439b-d20b-d0242a7e4525"
      },
      "execution_count": 51,
      "outputs": [
        {
          "output_type": "execute_result",
          "data": {
            "text/plain": [
              "array([[-0.85065081,  0.52573111],\n",
              "       [ 0.52573111,  0.85065081]])"
            ]
          },
          "metadata": {},
          "execution_count": 51
        }
      ]
    },
    {
      "cell_type": "code",
      "source": [
        "L"
      ],
      "metadata": {
        "colab": {
          "base_uri": "https://localhost:8080/"
        },
        "id": "L5S4_H9fhPc6",
        "outputId": "9d1ab66a-8eb9-4548-a7e3-13295ad855d7"
      },
      "execution_count": 48,
      "outputs": [
        {
          "output_type": "execute_result",
          "data": {
            "text/plain": [
              "array([[-0.23606798,  0.        ],\n",
              "       [ 0.        ,  4.23606798]])"
            ]
          },
          "metadata": {},
          "execution_count": 48
        }
      ]
    },
    {
      "cell_type": "code",
      "source": [
        "eW@L@eW.T # элементы спектрального разложения"
      ],
      "metadata": {
        "colab": {
          "base_uri": "https://localhost:8080/"
        },
        "id": "Z53H30XeoCwO",
        "outputId": "4f1c86a5-166f-4691-8276-2ba460642d33"
      },
      "execution_count": 49,
      "outputs": [
        {
          "output_type": "execute_result",
          "data": {
            "text/plain": [
              "array([[1., 2.],\n",
              "       [2., 3.]])"
            ]
          },
          "metadata": {},
          "execution_count": 49
        }
      ]
    }
  ]
}