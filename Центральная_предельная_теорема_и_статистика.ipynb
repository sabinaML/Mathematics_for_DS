{
  "nbformat": 4,
  "nbformat_minor": 0,
  "metadata": {
    "colab": {
      "provenance": [],
      "authorship_tag": "ABX9TyPQDJ3VdXcvELYKo4ddBqii",
      "include_colab_link": true
    },
    "kernelspec": {
      "name": "python3",
      "display_name": "Python 3"
    },
    "language_info": {
      "name": "python"
    }
  },
  "cells": [
    {
      "cell_type": "markdown",
      "metadata": {
        "id": "view-in-github",
        "colab_type": "text"
      },
      "source": [
        "<a href=\"https://colab.research.google.com/github/sabinaML/Mathematics_for_DS/blob/main/%D0%A6%D0%B5%D0%BD%D1%82%D1%80%D0%B0%D0%BB%D1%8C%D0%BD%D0%B0%D1%8F_%D0%BF%D1%80%D0%B5%D0%B4%D0%B5%D0%BB%D1%8C%D0%BD%D0%B0%D1%8F_%D1%82%D0%B5%D0%BE%D1%80%D0%B5%D0%BC%D0%B0_%D0%B8_%D1%81%D1%82%D0%B0%D1%82%D0%B8%D1%81%D1%82%D0%B8%D0%BA%D0%B0.ipynb\" target=\"_parent\"><img src=\"https://colab.research.google.com/assets/colab-badge.svg\" alt=\"Open In Colab\"/></a>"
      ]
    },
    {
      "cell_type": "markdown",
      "source": [
        "Создайте случайную величину из любого выбранного вами распределения, для разных значений n сгенерируйте 1000 выборок размера n. Постройте гистрограммы средних этих выборок и сделайте выводы."
      ],
      "metadata": {
        "id": "dygBBEGbIdxE"
      }
    },
    {
      "cell_type": "code",
      "source": [
        "import pandas as pd\n",
        "import numpy as np\n",
        "import matplotlib.pyplot as plt\n",
        "import scipy.stats as sts\n",
        "%matplotlib inline"
      ],
      "metadata": {
        "id": "U1-X1UyEIf0s"
      },
      "execution_count": 10,
      "outputs": []
    },
    {
      "cell_type": "code",
      "source": [
        "rv =sts.expon(loc = 5, scale = 1.5) \n",
        "sample = rv.rvs(size=1000)"
      ],
      "metadata": {
        "id": "n1FSVRVjGUUv"
      },
      "execution_count": 13,
      "outputs": []
    },
    {
      "cell_type": "code",
      "source": [
        "x = np.linspace(0,2,100)\n",
        "pdf = rv.pdf(x)\n",
        "plt.hist(sample, density=True, bins=30, label='sample histogram')\n",
        "plt.plot(x, pdf, label='theoretical pdf', alpha=0.5)\n",
        "plt.legend()\n",
        "plt.ylabel('fraction of samples, ')\n",
        "plt.xlabel('')\n",
        "plt.show()"
      ],
      "metadata": {
        "colab": {
          "base_uri": "https://localhost:8080/",
          "height": 265
        },
        "id": "OXKPyiFCGelF",
        "outputId": "bebd7a90-adca-483d-ba39-852ec910566b"
      },
      "execution_count": 14,
      "outputs": [
        {
          "output_type": "display_data",
          "data": {
            "text/plain": [
              "<Figure size 432x288 with 1 Axes>"
            ],
            "image/png": "[encoded data removed]"
          },
          "metadata": {
            "needs_background": "light"
          }
        }
      ]
    },
    {
      "cell_type": "code",
      "source": [
        "n1 = 1000               # Размеры выборок \n",
        "\n",
        "\n",
        "a1 = np.array([])     # Массивы для сохранения средних по выборкам\n",
        "\n",
        "\n",
        "samples_count = 1000  # Количество повторов генерации\n",
        "\n",
        "for number in range(samples_count): \n",
        "    sample1 = rv.rvs(size=n1)               # На каждом цикле генерируем выборки указанных размеров\n",
        "\n",
        "    a1 = np.append(a1, sample1.mean())      # Считаем среднее по каждой выборке и добавляем в массив средних\n",
        " "
      ],
      "metadata": {
        "id": "MF1fiM0aGn5N"
      },
      "execution_count": 19,
      "outputs": []
    },
    {
      "cell_type": "code",
      "source": [
        "label_1 = 'sample of ' + str(n1) + ' histogram'   # Подписи для графиков\n",
        "\n",
        "plt.hist(a1, density=True, label=label_1)         # Строим графики\n",
        "\n",
        "\n",
        "plt.legend() \n",
        "plt.ylabel('samples means')\n",
        "plt.xlabel('')"
      ],
      "metadata": {
        "colab": {
          "base_uri": "https://localhost:8080/",
          "height": 282
        },
        "id": "AVmLiNynGqG1",
        "outputId": "1dd4ca3d-ec92-4e1b-d4da-008ea7c807d6"
      },
      "execution_count": 20,
      "outputs": [
        {
          "output_type": "execute_result",
          "data": {
            "text/plain": [
              "Text(0.5, 0, '')"
            ]
          },
          "metadata": {},
          "execution_count": 20
        },
        {
          "output_type": "display_data",
          "data": {
            "text/plain": [
              "<Figure size 432x288 with 1 Axes>"
            ],
            "image/png": "[encoded data removed]"
          },
          "metadata": {
            "needs_background": "light"
          }
        }
      ]
    },
    {
      "cell_type": "code",
      "source": [
        "# чем больше размер выборок, тем распределение средних значений этих выборок ближе к нормальному"
      ],
      "metadata": {
        "id": "ECuEMcSHI4I7"
      },
      "execution_count": null,
      "outputs": []
    }
  ]
}