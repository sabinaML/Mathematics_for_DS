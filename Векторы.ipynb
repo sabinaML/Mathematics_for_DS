{
  "nbformat": 4,
  "nbformat_minor": 0,
  "metadata": {
    "colab": {
      "provenance": []
    },
    "kernelspec": {
      "name": "python3",
      "display_name": "Python 3"
    },
    "language_info": {
      "name": "python"
    }
  },
  "cells": [
    {
      "cell_type": "markdown",
      "source": [
        "Домашнее задание \"Основные математические понятия\".\n",
        "Уровень 0:\n",
        "Представим фильмы в виде бинарных векторов (numpy array) используя следующие признаки:\n",
        "\n",
        "[Комедия, Боевик, Исторический, Бред Питт, Бенедикт Камбербэтч, Квентин Тарантино]\n",
        "\n",
        "Игра в имитацию\n",
        "\n",
        "Ярость\n",
        "\n",
        "12 лет рабства\n",
        "\n",
        "Однажды в Голливуде\n",
        "\n",
        "film_1 = np.array([0,0,0,0,1,0])      # Игра в имитацию\n",
        "\n",
        "film_2 = np.array([0,1,0,1,0,0])      # Ярость\n",
        "\n",
        "film_3 = np.array([0,0,1,1,1,0])      # 12 лет рабства\n",
        "\n",
        "film_4 = np.array([1,0,0,1,0,1])      # Однажды в Голливуде"
      ],
      "metadata": {
        "id": "pNBcxiTbXmaY"
      }
    },
    {
      "cell_type": "markdown",
      "source": [
        "Задание 1\n",
        "Найти угол между векторами-фильмами \"Ярость\" и \"12 лет рабства\". Результатом будет являться косинусная мера, которую можно использовать для определения похожести векторов."
      ],
      "metadata": {
        "id": "hkmoA9aQXu2u"
      }
    },
    {
      "cell_type": "code",
      "source": [
        "import numpy as np"
      ],
      "metadata": {
        "id": "NOdrybBiXvgX"
      },
      "execution_count": 1,
      "outputs": []
    },
    {
      "cell_type": "code",
      "source": [
        "film_1 = np.array([0,0,0,0,1,0]) # Игра в имитацию\n",
        "\n",
        "film_2 = np.array([0,1,0,1,0,0]) # Ярость\n",
        "\n",
        "film_3 = np.array([0,0,1,1,1,0]) # 12 лет рабства\n",
        "\n",
        "film_4 = np.array([1,0,0,1,0,1]) # Однажды в Голливуде"
      ],
      "metadata": {
        "id": "Uw9IAG6vX_QW"
      },
      "execution_count": 2,
      "outputs": []
    },
    {
      "cell_type": "code",
      "source": [
        "np.dot(film_2, film_3) # скалярное произведение векторов"
      ],
      "metadata": {
        "colab": {
          "base_uri": "https://localhost:8080/"
        },
        "id": "s71c5DqKX_aG",
        "outputId": "d0975705-47ee-49e7-e5d6-6aace0c3f0ef"
      },
      "execution_count": 4,
      "outputs": [
        {
          "output_type": "execute_result",
          "data": {
            "text/plain": [
              "1"
            ]
          },
          "metadata": {},
          "execution_count": 4
        }
      ]
    },
    {
      "cell_type": "code",
      "source": [
        "np.dot(film_2, film_3)/(np.linalg.norm(film_2)*np.linalg.norm(film_3)) # косинус угла между векторами"
      ],
      "metadata": {
        "colab": {
          "base_uri": "https://localhost:8080/"
        },
        "id": "cizf9DlIX_if",
        "outputId": "268dcb08-4e1c-454f-e319-fc617f8fb400"
      },
      "execution_count": 6,
      "outputs": [
        {
          "output_type": "execute_result",
          "data": {
            "text/plain": [
              "0.40824829046386296"
            ]
          },
          "metadata": {},
          "execution_count": 6
        }
      ]
    },
    {
      "cell_type": "code",
      "source": [
        "np.rad2deg(np.arccos(np.dot(film_2, film_3)/(np.linalg.norm(film_2)*np.linalg.norm(film_3)))) - # угол в градусах"
      ],
      "metadata": {
        "colab": {
          "base_uri": "https://localhost:8080/"
        },
        "id": "rMoULSXzX_lQ",
        "outputId": "3b33d95d-9f19-4e8e-9fcd-b87f8bd680da"
      },
      "execution_count": 8,
      "outputs": [
        {
          "output_type": "execute_result",
          "data": {
            "text/plain": [
              "65.90515744788931"
            ]
          },
          "metadata": {},
          "execution_count": 8
        }
      ]
    },
    {
      "cell_type": "markdown",
      "source": [
        "Задание 2\n",
        "Вычислить с помощью Python значение первой производной для функции 8*x*(x+3)**2 в точке 1"
      ],
      "metadata": {
        "id": "8FWpLRyjZeK2"
      }
    },
    {
      "cell_type": "code",
      "source": [
        "import sympy as sym"
      ],
      "metadata": {
        "id": "mom90BqwZa7v"
      },
      "execution_count": 10,
      "outputs": []
    },
    {
      "cell_type": "code",
      "source": [
        "x=sym.Symbol('x')"
      ],
      "metadata": {
        "id": "8YftQ_EmZvht"
      },
      "execution_count": 11,
      "outputs": []
    },
    {
      "cell_type": "code",
      "source": [
        "f=8*x*(x+3)**2\n",
        "f"
      ],
      "metadata": {
        "colab": {
          "base_uri": "https://localhost:8080/",
          "height": 40
        },
        "id": "r5AUmPs5Zvkq",
        "outputId": "4d79edd8-1dc5-4263-cdf3-1333e69eadd2"
      },
      "execution_count": 13,
      "outputs": [
        {
          "output_type": "execute_result",
          "data": {
            "text/plain": [
              "8*x*(x + 3)**2"
            ],
            "text/latex": "$\\displaystyle 8 x \\left(x + 3\\right)^{2}$"
          },
          "metadata": {},
          "execution_count": 13
        }
      ]
    },
    {
      "cell_type": "code",
      "source": [
        "res=sym.diff(f, x) # производная функции\n",
        "res"
      ],
      "metadata": {
        "colab": {
          "base_uri": "https://localhost:8080/",
          "height": 40
        },
        "id": "lvf57FLIZvoB",
        "outputId": "1b805694-dd67-422d-ce91-e4c034772099"
      },
      "execution_count": 15,
      "outputs": [
        {
          "output_type": "execute_result",
          "data": {
            "text/plain": [
              "8*x*(2*x + 6) + 8*(x + 3)**2"
            ],
            "text/latex": "$\\displaystyle 8 x \\left(2 x + 6\\right) + 8 \\left(x + 3\\right)^{2}$"
          },
          "metadata": {},
          "execution_count": 15
        }
      ]
    },
    {
      "cell_type": "code",
      "source": [
        "res.subs(x,1) - # значение производной в точке 1"
      ],
      "metadata": {
        "colab": {
          "base_uri": "https://localhost:8080/",
          "height": 37
        },
        "id": "CT_Bf4gfaBVN",
        "outputId": "630568f5-575a-4547-e96a-befb8b7215a6"
      },
      "execution_count": 16,
      "outputs": [
        {
          "output_type": "execute_result",
          "data": {
            "text/plain": [
              "192"
            ],
            "text/latex": "$\\displaystyle 192$"
          },
          "metadata": {},
          "execution_count": 16
        }
      ]
    },
    {
      "cell_type": "markdown",
      "source": [
        "Задание 3\n",
        "Объединить векторы фильмов в матрицу, где каждый вектор является строкой матрицы. Умножьте вектор [1,2,3,4] на полученную матрицу"
      ],
      "metadata": {
        "id": "GvtG_v4Ea60G"
      }
    },
    {
      "cell_type": "code",
      "source": [
        "m=np.array([film_1,film_2, film_3, film_4])\n",
        "m"
      ],
      "metadata": {
        "colab": {
          "base_uri": "https://localhost:8080/"
        },
        "id": "sQ6N2X_AaBX2",
        "outputId": "18890d8c-f28c-4365-fca0-1d117f80af8c"
      },
      "execution_count": 18,
      "outputs": [
        {
          "output_type": "execute_result",
          "data": {
            "text/plain": [
              "array([[0, 0, 0, 0, 1, 0],\n",
              "       [0, 1, 0, 1, 0, 0],\n",
              "       [0, 0, 1, 1, 1, 0],\n",
              "       [1, 0, 0, 1, 0, 1]])"
            ]
          },
          "metadata": {},
          "execution_count": 18
        }
      ]
    },
    {
      "cell_type": "code",
      "source": [
        "b= np.array([1,2,3,4])\n",
        "b"
      ],
      "metadata": {
        "colab": {
          "base_uri": "https://localhost:8080/"
        },
        "id": "Ni8OzE5maBaH",
        "outputId": "b86ecb8d-a506-4edc-eb0e-d1d0a3a26c01"
      },
      "execution_count": 19,
      "outputs": [
        {
          "output_type": "execute_result",
          "data": {
            "text/plain": [
              "array([1, 2, 3, 4])"
            ]
          },
          "metadata": {},
          "execution_count": 19
        }
      ]
    },
    {
      "cell_type": "code",
      "source": [
        "b@m # применим матричное умножение"
      ],
      "metadata": {
        "colab": {
          "base_uri": "https://localhost:8080/"
        },
        "id": "nm2xG6lnZvqB",
        "outputId": "3adea843-9dbf-4ecd-e068-7f621738d12e"
      },
      "execution_count": 24,
      "outputs": [
        {
          "output_type": "execute_result",
          "data": {
            "text/plain": [
              "array([4, 2, 3, 9, 4, 4])"
            ]
          },
          "metadata": {},
          "execution_count": 24
        }
      ]
    }
  ]
}